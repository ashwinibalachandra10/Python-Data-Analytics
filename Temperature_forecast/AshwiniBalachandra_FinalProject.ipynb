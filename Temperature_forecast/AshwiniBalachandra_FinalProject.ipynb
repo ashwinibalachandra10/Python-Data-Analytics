{
 "cells": [
  {
   "cell_type": "code",
   "execution_count": 92,
   "id": "677ea90d",
   "metadata": {},
   "outputs": [],
   "source": [
    "import pandas as pd  \n",
    "import numpy as np  \n",
    "import matplotlib.pyplot as plt  \n",
    "import seaborn as seabornInstance \n",
    "from sklearn.model_selection import train_test_split \n",
    "from sklearn.linear_model import LinearRegression\n",
    "from sklearn import metrics\n",
    "%matplotlib inline"
   ]
  },
  {
   "cell_type": "code",
   "execution_count": 93,
   "id": "1654a436",
   "metadata": {},
   "outputs": [
    {
     "data": {
      "text/html": [
       "<div>\n",
       "<style scoped>\n",
       "    .dataframe tbody tr th:only-of-type {\n",
       "        vertical-align: middle;\n",
       "    }\n",
       "\n",
       "    .dataframe tbody tr th {\n",
       "        vertical-align: top;\n",
       "    }\n",
       "\n",
       "    .dataframe thead th {\n",
       "        text-align: right;\n",
       "    }\n",
       "</style>\n",
       "<table border=\"1\" class=\"dataframe\">\n",
       "  <thead>\n",
       "    <tr style=\"text-align: right;\">\n",
       "      <th></th>\n",
       "      <th>Name</th>\n",
       "      <th>Date time</th>\n",
       "      <th>Maximum Temperature</th>\n",
       "      <th>Minimum Temperature</th>\n",
       "      <th>Temperature</th>\n",
       "      <th>Wind Chill</th>\n",
       "      <th>Heat Index</th>\n",
       "      <th>Precipitation</th>\n",
       "      <th>Snow</th>\n",
       "      <th>Snow Depth</th>\n",
       "      <th>Wind Speed</th>\n",
       "      <th>Wind Direction</th>\n",
       "      <th>Wind Gust</th>\n",
       "      <th>Visibility</th>\n",
       "      <th>Cloud Cover</th>\n",
       "      <th>Relative Humidity</th>\n",
       "      <th>Conditions</th>\n",
       "    </tr>\n",
       "  </thead>\n",
       "  <tbody>\n",
       "    <tr>\n",
       "      <th>0</th>\n",
       "      <td>San Diego, CA, United States</td>\n",
       "      <td>04/01/2021</td>\n",
       "      <td>86.6</td>\n",
       "      <td>57.4</td>\n",
       "      <td>71.2</td>\n",
       "      <td>NaN</td>\n",
       "      <td>83.2</td>\n",
       "      <td>0.0</td>\n",
       "      <td>0</td>\n",
       "      <td>0</td>\n",
       "      <td>17.2</td>\n",
       "      <td>217.21</td>\n",
       "      <td>NaN</td>\n",
       "      <td>9.9</td>\n",
       "      <td>59.5</td>\n",
       "      <td>29.91</td>\n",
       "      <td>Partially cloudy</td>\n",
       "    </tr>\n",
       "    <tr>\n",
       "      <th>1</th>\n",
       "      <td>San Diego, CA, United States</td>\n",
       "      <td>04/02/2021</td>\n",
       "      <td>67.3</td>\n",
       "      <td>59.7</td>\n",
       "      <td>63.1</td>\n",
       "      <td>NaN</td>\n",
       "      <td>NaN</td>\n",
       "      <td>0.0</td>\n",
       "      <td>0</td>\n",
       "      <td>0</td>\n",
       "      <td>10.6</td>\n",
       "      <td>214.54</td>\n",
       "      <td>21.9</td>\n",
       "      <td>9.7</td>\n",
       "      <td>53.1</td>\n",
       "      <td>71.53</td>\n",
       "      <td>Partially cloudy</td>\n",
       "    </tr>\n",
       "    <tr>\n",
       "      <th>2</th>\n",
       "      <td>San Diego, CA, United States</td>\n",
       "      <td>04/03/2021</td>\n",
       "      <td>65.8</td>\n",
       "      <td>57.4</td>\n",
       "      <td>60.8</td>\n",
       "      <td>NaN</td>\n",
       "      <td>NaN</td>\n",
       "      <td>0.0</td>\n",
       "      <td>0</td>\n",
       "      <td>0</td>\n",
       "      <td>14.7</td>\n",
       "      <td>278.13</td>\n",
       "      <td>18.3</td>\n",
       "      <td>9.2</td>\n",
       "      <td>52.9</td>\n",
       "      <td>74.61</td>\n",
       "      <td>Partially cloudy</td>\n",
       "    </tr>\n",
       "    <tr>\n",
       "      <th>3</th>\n",
       "      <td>San Diego, CA, United States</td>\n",
       "      <td>04/04/2021</td>\n",
       "      <td>70.8</td>\n",
       "      <td>55.6</td>\n",
       "      <td>62.0</td>\n",
       "      <td>NaN</td>\n",
       "      <td>NaN</td>\n",
       "      <td>0.0</td>\n",
       "      <td>0</td>\n",
       "      <td>0</td>\n",
       "      <td>12.8</td>\n",
       "      <td>256.29</td>\n",
       "      <td>NaN</td>\n",
       "      <td>8.0</td>\n",
       "      <td>71.8</td>\n",
       "      <td>73.37</td>\n",
       "      <td>Partially cloudy</td>\n",
       "    </tr>\n",
       "    <tr>\n",
       "      <th>4</th>\n",
       "      <td>San Diego, CA, United States</td>\n",
       "      <td>04/05/2021</td>\n",
       "      <td>65.4</td>\n",
       "      <td>58.5</td>\n",
       "      <td>61.1</td>\n",
       "      <td>NaN</td>\n",
       "      <td>NaN</td>\n",
       "      <td>0.0</td>\n",
       "      <td>0</td>\n",
       "      <td>0</td>\n",
       "      <td>12.7</td>\n",
       "      <td>239.17</td>\n",
       "      <td>19.7</td>\n",
       "      <td>9.9</td>\n",
       "      <td>77.3</td>\n",
       "      <td>71.76</td>\n",
       "      <td>Overcast</td>\n",
       "    </tr>\n",
       "  </tbody>\n",
       "</table>\n",
       "</div>"
      ],
      "text/plain": [
       "                           Name   Date time  Maximum Temperature  \\\n",
       "0  San Diego, CA, United States  04/01/2021                 86.6   \n",
       "1  San Diego, CA, United States  04/02/2021                 67.3   \n",
       "2  San Diego, CA, United States  04/03/2021                 65.8   \n",
       "3  San Diego, CA, United States  04/04/2021                 70.8   \n",
       "4  San Diego, CA, United States  04/05/2021                 65.4   \n",
       "\n",
       "   Minimum Temperature  Temperature  Wind Chill  Heat Index  Precipitation  \\\n",
       "0                 57.4         71.2         NaN        83.2            0.0   \n",
       "1                 59.7         63.1         NaN         NaN            0.0   \n",
       "2                 57.4         60.8         NaN         NaN            0.0   \n",
       "3                 55.6         62.0         NaN         NaN            0.0   \n",
       "4                 58.5         61.1         NaN         NaN            0.0   \n",
       "\n",
       "   Snow  Snow Depth  Wind Speed  Wind Direction  Wind Gust  Visibility  \\\n",
       "0     0           0        17.2          217.21        NaN         9.9   \n",
       "1     0           0        10.6          214.54       21.9         9.7   \n",
       "2     0           0        14.7          278.13       18.3         9.2   \n",
       "3     0           0        12.8          256.29        NaN         8.0   \n",
       "4     0           0        12.7          239.17       19.7         9.9   \n",
       "\n",
       "   Cloud Cover  Relative Humidity        Conditions  \n",
       "0         59.5              29.91  Partially cloudy  \n",
       "1         53.1              71.53  Partially cloudy  \n",
       "2         52.9              74.61  Partially cloudy  \n",
       "3         71.8              73.37  Partially cloudy  \n",
       "4         77.3              71.76          Overcast  "
      ]
     },
     "execution_count": 93,
     "metadata": {},
     "output_type": "execute_result"
    }
   ],
   "source": [
    "#Dataset sample\n",
    "dataset = pd.read_csv('history_data.csv')\n",
    "dataset.head(5)"
   ]
  },
  {
   "cell_type": "code",
   "execution_count": 94,
   "id": "08567513",
   "metadata": {},
   "outputs": [
    {
     "data": {
      "text/html": [
       "<div>\n",
       "<style scoped>\n",
       "    .dataframe tbody tr th:only-of-type {\n",
       "        vertical-align: middle;\n",
       "    }\n",
       "\n",
       "    .dataframe tbody tr th {\n",
       "        vertical-align: top;\n",
       "    }\n",
       "\n",
       "    .dataframe thead th {\n",
       "        text-align: right;\n",
       "    }\n",
       "</style>\n",
       "<table border=\"1\" class=\"dataframe\">\n",
       "  <thead>\n",
       "    <tr style=\"text-align: right;\">\n",
       "      <th></th>\n",
       "      <th>Maximum Temperature</th>\n",
       "      <th>Minimum Temperature</th>\n",
       "      <th>Temperature</th>\n",
       "      <th>Wind Chill</th>\n",
       "      <th>Heat Index</th>\n",
       "      <th>Precipitation</th>\n",
       "      <th>Snow</th>\n",
       "      <th>Snow Depth</th>\n",
       "      <th>Wind Speed</th>\n",
       "      <th>Wind Direction</th>\n",
       "      <th>Wind Gust</th>\n",
       "      <th>Visibility</th>\n",
       "      <th>Cloud Cover</th>\n",
       "      <th>Relative Humidity</th>\n",
       "    </tr>\n",
       "  </thead>\n",
       "  <tbody>\n",
       "    <tr>\n",
       "      <th>count</th>\n",
       "      <td>230.000000</td>\n",
       "      <td>230.000000</td>\n",
       "      <td>230.000000</td>\n",
       "      <td>0.0</td>\n",
       "      <td>33.000000</td>\n",
       "      <td>230.000000</td>\n",
       "      <td>230.0</td>\n",
       "      <td>230.0</td>\n",
       "      <td>230.000000</td>\n",
       "      <td>230.000000</td>\n",
       "      <td>138.000000</td>\n",
       "      <td>230.000000</td>\n",
       "      <td>230.000000</td>\n",
       "      <td>230.000000</td>\n",
       "    </tr>\n",
       "    <tr>\n",
       "      <th>mean</th>\n",
       "      <td>73.068696</td>\n",
       "      <td>63.223478</td>\n",
       "      <td>67.586522</td>\n",
       "      <td>NaN</td>\n",
       "      <td>82.645455</td>\n",
       "      <td>0.007391</td>\n",
       "      <td>0.0</td>\n",
       "      <td>0.0</td>\n",
       "      <td>12.370000</td>\n",
       "      <td>240.511391</td>\n",
       "      <td>20.996377</td>\n",
       "      <td>9.471304</td>\n",
       "      <td>63.676522</td>\n",
       "      <td>69.106913</td>\n",
       "    </tr>\n",
       "    <tr>\n",
       "      <th>std</th>\n",
       "      <td>5.877169</td>\n",
       "      <td>5.122275</td>\n",
       "      <td>4.470714</td>\n",
       "      <td>NaN</td>\n",
       "      <td>1.681534</td>\n",
       "      <td>0.045151</td>\n",
       "      <td>0.0</td>\n",
       "      <td>0.0</td>\n",
       "      <td>2.957872</td>\n",
       "      <td>44.375849</td>\n",
       "      <td>2.831507</td>\n",
       "      <td>0.825760</td>\n",
       "      <td>27.403942</td>\n",
       "      <td>8.116310</td>\n",
       "    </tr>\n",
       "    <tr>\n",
       "      <th>min</th>\n",
       "      <td>60.600000</td>\n",
       "      <td>51.500000</td>\n",
       "      <td>59.600000</td>\n",
       "      <td>NaN</td>\n",
       "      <td>79.000000</td>\n",
       "      <td>0.000000</td>\n",
       "      <td>0.0</td>\n",
       "      <td>0.0</td>\n",
       "      <td>6.900000</td>\n",
       "      <td>95.550000</td>\n",
       "      <td>16.100000</td>\n",
       "      <td>3.300000</td>\n",
       "      <td>0.000000</td>\n",
       "      <td>29.910000</td>\n",
       "    </tr>\n",
       "    <tr>\n",
       "      <th>25%</th>\n",
       "      <td>68.325000</td>\n",
       "      <td>59.400000</td>\n",
       "      <td>63.700000</td>\n",
       "      <td>NaN</td>\n",
       "      <td>81.800000</td>\n",
       "      <td>0.000000</td>\n",
       "      <td>0.0</td>\n",
       "      <td>0.0</td>\n",
       "      <td>10.300000</td>\n",
       "      <td>207.842500</td>\n",
       "      <td>19.625000</td>\n",
       "      <td>9.400000</td>\n",
       "      <td>49.850000</td>\n",
       "      <td>67.122500</td>\n",
       "    </tr>\n",
       "    <tr>\n",
       "      <th>50%</th>\n",
       "      <td>72.900000</td>\n",
       "      <td>62.550000</td>\n",
       "      <td>67.900000</td>\n",
       "      <td>NaN</td>\n",
       "      <td>82.500000</td>\n",
       "      <td>0.000000</td>\n",
       "      <td>0.0</td>\n",
       "      <td>0.0</td>\n",
       "      <td>11.500000</td>\n",
       "      <td>238.145000</td>\n",
       "      <td>20.800000</td>\n",
       "      <td>9.800000</td>\n",
       "      <td>69.950000</td>\n",
       "      <td>71.165000</td>\n",
       "    </tr>\n",
       "    <tr>\n",
       "      <th>75%</th>\n",
       "      <td>76.700000</td>\n",
       "      <td>67.575000</td>\n",
       "      <td>71.700000</td>\n",
       "      <td>NaN</td>\n",
       "      <td>84.000000</td>\n",
       "      <td>0.000000</td>\n",
       "      <td>0.0</td>\n",
       "      <td>0.0</td>\n",
       "      <td>14.000000</td>\n",
       "      <td>280.187500</td>\n",
       "      <td>21.900000</td>\n",
       "      <td>9.900000</td>\n",
       "      <td>85.500000</td>\n",
       "      <td>73.917500</td>\n",
       "    </tr>\n",
       "    <tr>\n",
       "      <th>max</th>\n",
       "      <td>89.200000</td>\n",
       "      <td>72.700000</td>\n",
       "      <td>76.500000</td>\n",
       "      <td>NaN</td>\n",
       "      <td>85.600000</td>\n",
       "      <td>0.410000</td>\n",
       "      <td>0.0</td>\n",
       "      <td>0.0</td>\n",
       "      <td>24.100000</td>\n",
       "      <td>325.330000</td>\n",
       "      <td>34.400000</td>\n",
       "      <td>9.900000</td>\n",
       "      <td>100.000000</td>\n",
       "      <td>82.420000</td>\n",
       "    </tr>\n",
       "  </tbody>\n",
       "</table>\n",
       "</div>"
      ],
      "text/plain": [
       "       Maximum Temperature  Minimum Temperature  Temperature  Wind Chill  \\\n",
       "count           230.000000           230.000000   230.000000         0.0   \n",
       "mean             73.068696            63.223478    67.586522         NaN   \n",
       "std               5.877169             5.122275     4.470714         NaN   \n",
       "min              60.600000            51.500000    59.600000         NaN   \n",
       "25%              68.325000            59.400000    63.700000         NaN   \n",
       "50%              72.900000            62.550000    67.900000         NaN   \n",
       "75%              76.700000            67.575000    71.700000         NaN   \n",
       "max              89.200000            72.700000    76.500000         NaN   \n",
       "\n",
       "       Heat Index  Precipitation   Snow  Snow Depth  Wind Speed  \\\n",
       "count   33.000000     230.000000  230.0       230.0  230.000000   \n",
       "mean    82.645455       0.007391    0.0         0.0   12.370000   \n",
       "std      1.681534       0.045151    0.0         0.0    2.957872   \n",
       "min     79.000000       0.000000    0.0         0.0    6.900000   \n",
       "25%     81.800000       0.000000    0.0         0.0   10.300000   \n",
       "50%     82.500000       0.000000    0.0         0.0   11.500000   \n",
       "75%     84.000000       0.000000    0.0         0.0   14.000000   \n",
       "max     85.600000       0.410000    0.0         0.0   24.100000   \n",
       "\n",
       "       Wind Direction   Wind Gust  Visibility  Cloud Cover  Relative Humidity  \n",
       "count      230.000000  138.000000  230.000000   230.000000         230.000000  \n",
       "mean       240.511391   20.996377    9.471304    63.676522          69.106913  \n",
       "std         44.375849    2.831507    0.825760    27.403942           8.116310  \n",
       "min         95.550000   16.100000    3.300000     0.000000          29.910000  \n",
       "25%        207.842500   19.625000    9.400000    49.850000          67.122500  \n",
       "50%        238.145000   20.800000    9.800000    69.950000          71.165000  \n",
       "75%        280.187500   21.900000    9.900000    85.500000          73.917500  \n",
       "max        325.330000   34.400000    9.900000   100.000000          82.420000  "
      ]
     },
     "execution_count": 94,
     "metadata": {},
     "output_type": "execute_result"
    }
   ],
   "source": [
    "dataset.describe()"
   ]
  },
  {
   "cell_type": "code",
   "execution_count": 95,
   "id": "c85c92ec",
   "metadata": {},
   "outputs": [
    {
     "data": {
      "image/png": "[encoded data removed]",
      "text/plain": [
       "<Figure size 432x288 with 1 Axes>"
      ]
     },
     "metadata": {
      "needs_background": "light"
     },
     "output_type": "display_data"
    }
   ],
   "source": [
    "dataset.plot(x='Minimum Temperature', y='Maximum Temperature', style='o')  \n",
    "plt.title('MinTemp vs MaxTemp')  \n",
    "plt.xlabel('MinTemp')  \n",
    "plt.ylabel('MaxTemp')  \n",
    "plt.show()"
   ]
  },
  {
   "cell_type": "code",
   "execution_count": 96,
   "id": "8d3980f3",
   "metadata": {},
   "outputs": [
    {
     "data": {
      "text/plain": [
       "<AxesSubplot:xlabel='Minimum Temperature', ylabel='Count'>"
      ]
     },
     "execution_count": 96,
     "metadata": {},
     "output_type": "execute_result"
    },
    {
     "data": {
      "image/png": "[encoded data removed]",
      "text/plain": [
       "<Figure size 1008x720 with 1 Axes>"
      ]
     },
     "metadata": {
      "needs_background": "light"
     },
     "output_type": "display_data"
    }
   ],
   "source": [
    "plt.figure(figsize=(14,10))\n",
    "plt.tight_layout()\n",
    "seabornInstance.histplot(dataset['Minimum Temperature'])\n",
    "\n",
    "#we can observe that the Average Minimum Temperature is Between Nearly 66-71.\n"
   ]
  },
  {
   "cell_type": "code",
   "execution_count": 97,
   "id": "84e678ea",
   "metadata": {},
   "outputs": [
    {
     "data": {
      "text/plain": [
       "<AxesSubplot:xlabel='Maximum Temperature', ylabel='Count'>"
      ]
     },
     "execution_count": 97,
     "metadata": {},
     "output_type": "execute_result"
    },
    {
     "data": {
      "image/png": "[encoded data removed]",
      "text/plain": [
       "<Figure size 1008x720 with 1 Axes>"
      ]
     },
     "metadata": {
      "needs_background": "light"
     },
     "output_type": "display_data"
    }
   ],
   "source": [
    "plt.figure(figsize=(14,10))\n",
    "plt.tight_layout()\n",
    "seabornInstance.histplot(dataset['Maximum Temperature'])\n",
    "\n",
    "#we can observe that the Average Maximum Temperature is Between Nearly 69-71 and 76-78.\n"
   ]
  },
  {
   "cell_type": "code",
   "execution_count": 98,
   "id": "4a792c04",
   "metadata": {},
   "outputs": [],
   "source": [
    "# We want to predict the Maximum Temp depending upon the Minimum Temp recorded. The “Minimum Temperature” column which is stored in the X variable(independent variable), \n",
    "#and the “Maximum Temperature” column which is stored in y variable(Dependent variable).y=mx+c\n",
    "\n",
    "X = dataset['Minimum Temperature'].values.reshape(-1,1)\n",
    "y = dataset['Maximum Temperature'].values.reshape(-1,1)"
   ]
  },
  {
   "cell_type": "code",
   "execution_count": 41,
   "id": "ab06aa76",
   "metadata": {},
   "outputs": [
    {
     "data": {
      "text/plain": [
       "LinearRegression()"
      ]
     },
     "execution_count": 41,
     "metadata": {},
     "output_type": "execute_result"
    }
   ],
   "source": [
    "#Next, we split 80% of the data to the training set while 20% of the data to test set using below code.\n",
    "X_train, X_test, y_train, y_test = train_test_split(X, y, test_size=0.2, random_state=0)\n",
    "#Lets train the model\n",
    "regressor = LinearRegression()  \n",
    "regressor.fit(X_train, y_train)"
   ]
  },
  {
   "cell_type": "code",
   "execution_count": 42,
   "id": "939cafcf",
   "metadata": {},
   "outputs": [
    {
     "name": "stdout",
     "output_type": "stream",
     "text": [
      "[62.13075698]\n",
      "[[0.20413973]]\n"
     ]
    }
   ],
   "source": [
    "#To retrieve the intercept:\n",
    "print(regressor.intercept_)\n",
    "#For retrieving the slope:\n",
    "print(regressor.coef_)"
   ]
  },
  {
   "cell_type": "code",
   "execution_count": 43,
   "id": "1bab1f61",
   "metadata": {},
   "outputs": [
    {
     "data": {
      "text/plain": [
       "array([[72.80726474],\n",
       "       [73.52175378],\n",
       "       [74.64452228],\n",
       "       [74.07293105],\n",
       "       [75.74687681],\n",
       "       [75.58356503],\n",
       "       [74.17500091],\n",
       "       [75.80811873],\n",
       "       [73.50133981],\n",
       "       [73.76672146],\n",
       "       [75.72646284],\n",
       "       [74.72617818],\n",
       "       [75.72646284],\n",
       "       [72.64395295],\n",
       "       [72.82767871],\n",
       "       [76.56343572]])"
      ]
     },
     "execution_count": 43,
     "metadata": {},
     "output_type": "execute_result"
    }
   ],
   "source": [
    "#To make predictions on the test data\n",
    "y_pred = regressor.predict(X_test)\n",
    "y_pred"
   ]
  },
  {
   "cell_type": "code",
   "execution_count": 44,
   "id": "b88d010e",
   "metadata": {},
   "outputs": [
    {
     "data": {
      "text/html": [
       "<div>\n",
       "<style scoped>\n",
       "    .dataframe tbody tr th:only-of-type {\n",
       "        vertical-align: middle;\n",
       "    }\n",
       "\n",
       "    .dataframe tbody tr th {\n",
       "        vertical-align: top;\n",
       "    }\n",
       "\n",
       "    .dataframe thead th {\n",
       "        text-align: right;\n",
       "    }\n",
       "</style>\n",
       "<table border=\"1\" class=\"dataframe\">\n",
       "  <thead>\n",
       "    <tr style=\"text-align: right;\">\n",
       "      <th></th>\n",
       "      <th>Actual</th>\n",
       "      <th>Predicted</th>\n",
       "    </tr>\n",
       "  </thead>\n",
       "  <tbody>\n",
       "    <tr>\n",
       "      <th>0</th>\n",
       "      <td>68.6</td>\n",
       "      <td>72.807265</td>\n",
       "    </tr>\n",
       "    <tr>\n",
       "      <th>1</th>\n",
       "      <td>84.5</td>\n",
       "      <td>73.521754</td>\n",
       "    </tr>\n",
       "    <tr>\n",
       "      <th>2</th>\n",
       "      <td>66.1</td>\n",
       "      <td>74.644522</td>\n",
       "    </tr>\n",
       "    <tr>\n",
       "      <th>3</th>\n",
       "      <td>67.3</td>\n",
       "      <td>74.072931</td>\n",
       "    </tr>\n",
       "    <tr>\n",
       "      <th>4</th>\n",
       "      <td>75.5</td>\n",
       "      <td>75.746877</td>\n",
       "    </tr>\n",
       "    <tr>\n",
       "      <th>5</th>\n",
       "      <td>69.1</td>\n",
       "      <td>75.583565</td>\n",
       "    </tr>\n",
       "    <tr>\n",
       "      <th>6</th>\n",
       "      <td>65.9</td>\n",
       "      <td>74.175001</td>\n",
       "    </tr>\n",
       "    <tr>\n",
       "      <th>7</th>\n",
       "      <td>82.6</td>\n",
       "      <td>75.808119</td>\n",
       "    </tr>\n",
       "    <tr>\n",
       "      <th>8</th>\n",
       "      <td>85.7</td>\n",
       "      <td>73.501340</td>\n",
       "    </tr>\n",
       "    <tr>\n",
       "      <th>9</th>\n",
       "      <td>68.3</td>\n",
       "      <td>73.766721</td>\n",
       "    </tr>\n",
       "    <tr>\n",
       "      <th>10</th>\n",
       "      <td>70.8</td>\n",
       "      <td>75.726463</td>\n",
       "    </tr>\n",
       "    <tr>\n",
       "      <th>11</th>\n",
       "      <td>68.3</td>\n",
       "      <td>74.726178</td>\n",
       "    </tr>\n",
       "    <tr>\n",
       "      <th>12</th>\n",
       "      <td>80.9</td>\n",
       "      <td>75.726463</td>\n",
       "    </tr>\n",
       "    <tr>\n",
       "      <th>13</th>\n",
       "      <td>72.0</td>\n",
       "      <td>72.643953</td>\n",
       "    </tr>\n",
       "    <tr>\n",
       "      <th>14</th>\n",
       "      <td>71.1</td>\n",
       "      <td>72.827679</td>\n",
       "    </tr>\n",
       "    <tr>\n",
       "      <th>15</th>\n",
       "      <td>80.7</td>\n",
       "      <td>76.563436</td>\n",
       "    </tr>\n",
       "  </tbody>\n",
       "</table>\n",
       "</div>"
      ],
      "text/plain": [
       "    Actual  Predicted\n",
       "0     68.6  72.807265\n",
       "1     84.5  73.521754\n",
       "2     66.1  74.644522\n",
       "3     67.3  74.072931\n",
       "4     75.5  75.746877\n",
       "5     69.1  75.583565\n",
       "6     65.9  74.175001\n",
       "7     82.6  75.808119\n",
       "8     85.7  73.501340\n",
       "9     68.3  73.766721\n",
       "10    70.8  75.726463\n",
       "11    68.3  74.726178\n",
       "12    80.9  75.726463\n",
       "13    72.0  72.643953\n",
       "14    71.1  72.827679\n",
       "15    80.7  76.563436"
      ]
     },
     "execution_count": 44,
     "metadata": {},
     "output_type": "execute_result"
    }
   ],
   "source": [
    "df = pd.DataFrame({'Actual': y_test.flatten(), 'Predicted': y_pred.flatten()})\n",
    "df"
   ]
  },
  {
   "cell_type": "code",
   "execution_count": 30,
   "id": "cfdd5aa7",
   "metadata": {},
   "outputs": [
    {
     "data": {
      "image/png": "[encoded data removed]",
      "text/plain": [
       "<Figure size 1152x720 with 1 Axes>"
      ]
     },
     "metadata": {
      "needs_background": "light"
     },
     "output_type": "display_data"
    }
   ],
   "source": [
    "df.plot(kind='bar',figsize=(16,10))\n",
    "plt.grid(which='major', linestyle='-', linewidth='0.5', color='green')\n",
    "plt.grid(which='minor', linestyle=':', linewidth='0.5', color='black')\n",
    "plt.show()"
   ]
  },
  {
   "cell_type": "code",
   "execution_count": 34,
   "id": "683b8e2c",
   "metadata": {},
   "outputs": [
    {
     "data": {
      "image/png": "[encoded data removed]",
      "text/plain": [
       "<Figure size 432x288 with 1 Axes>"
      ]
     },
     "metadata": {
      "needs_background": "light"
     },
     "output_type": "display_data"
    }
   ],
   "source": [
    "plt.scatter(X_test, y_test,  color='blue')\n",
    "plt.plot(X_test, y_pred, color='red', linewidth=2)\n",
    "plt.show()"
   ]
  },
  {
   "cell_type": "code",
   "execution_count": 33,
   "id": "37805809",
   "metadata": {},
   "outputs": [
    {
     "name": "stdout",
     "output_type": "stream",
     "text": [
      "Mean Absolute Error: 0.905619818473655\n",
      "Mean Squared Error: 1.3383453152506408\n",
      "Root Mean Squared Error: 1.1568687545485188\n"
     ]
    }
   ],
   "source": [
    "print('Mean Absolute Error:', metrics.mean_absolute_error(y_test, y_pred))  \n",
    "print('Mean Squared Error:', metrics.mean_squared_error(y_test, y_pred))  \n",
    "print('Root Mean Squared Error:', np.sqrt(metrics.mean_squared_error(y_test, y_pred)))"
   ]
  }
 ],
 "metadata": {
  "kernelspec": {
   "display_name": "Python 3",
   "language": "python",
   "name": "python3"
  },
  "language_info": {
   "codemirror_mode": {
    "name": "ipython",
    "version": 3
   },
   "file_extension": ".py",
   "mimetype": "text/x-python",
   "name": "python",
   "nbconvert_exporter": "python",
   "pygments_lexer": "ipython3",
   "version": "3.8.8"
  }
 },
 "nbformat": 4,
 "nbformat_minor": 5
}
